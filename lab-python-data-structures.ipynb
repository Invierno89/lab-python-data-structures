{
 "cells": [
  {
   "cell_type": "markdown",
   "metadata": {
    "tags": []
   },
   "source": [
    "# Lab | Data Structures "
   ]
  },
  {
   "cell_type": "markdown",
   "metadata": {},
   "source": [
    "## Exercise: Managing Customer Orders\n",
    "\n",
    "As part of a business venture, you are starting an online store that sells various products. To ensure smooth operations, you need to develop a program that manages customer orders and inventory.\n",
    "\n",
    "Follow the steps below to complete the exercise:\n",
    "\n",
    "1. Define a list called `products` that contains the following items: \"t-shirt\", \"mug\", \"hat\", \"book\", \"keychain\".\n",
    "\n",
    "2. Create an empty dictionary called `inventory`.\n",
    "\n",
    "3. Ask the user to input the quantity of each product available in the inventory. Use the product names from the `products` list as keys in the `inventory` dictionary and assign the respective quantities as values.\n",
    "\n",
    "4. Create an empty set called `customer_orders`.\n",
    "\n",
    "5. Ask the user to input the name of three products that a customer wants to order (from those in the products list, meaning three products out of \"t-shirt\", \"mug\", \"hat\", \"book\" or \"keychain\". Add each product name to the `customer_orders` set.\n",
    "\n",
    "6. Print the products in the `customer_orders` set.\n",
    "\n",
    "7. Calculate the following order statistics:\n",
    "   - Total Products Ordered: The total number of products in the `customer_orders` set.\n",
    "   - Percentage of Products Ordered: The percentage of products ordered compared to the total available products.\n",
    "   \n",
    "   Store these statistics in a tuple called `order_status`.\n",
    "\n",
    "8. Print the order statistics using the following format:\n",
    "   ```\n",
    "   Order Statistics:\n",
    "   Total Products Ordered: <total_products_ordered>\n",
    "   Percentage of Products Ordered: <percentage_ordered>% \n",
    "   ```\n",
    "\n",
    "9. Update the inventory by subtracting 1 from the quantity of each product. Modify the `inventory` dictionary accordingly.\n",
    "\n",
    "10. Print the updated inventory, displaying the quantity of each product on separate lines.\n",
    "\n",
    "Solve the exercise by implementing the steps using the Python concepts of lists, dictionaries, sets, and basic input/output operations. "
   ]
  },
  {
   "cell_type": "code",
   "execution_count": 94,
   "metadata": {},
   "outputs": [
    {
     "data": {
      "text/plain": [
       "['t-shirt', 'mug', 'hat', 'book', 'Keychain']"
      ]
     },
     "execution_count": 94,
     "metadata": {},
     "output_type": "execute_result"
    }
   ],
   "source": [
    "products = [\"t-shirt\", \"mug\", \"hat\", \"book\", \"Keychain\"]\n",
    "products"
   ]
  },
  {
   "cell_type": "code",
   "execution_count": 103,
   "metadata": {},
   "outputs": [],
   "source": [
    "customers_orders = {}"
   ]
  },
  {
   "cell_type": "code",
   "execution_count": 104,
   "metadata": {},
   "outputs": [
    {
     "name": "stdout",
     "output_type": "stream",
     "text": [
      "{'t-shirt': '5', 'mug': '6', 'hat': '4', 'book': '7', 'Keychain': '3'}\n"
     ]
    }
   ],
   "source": [
    "for i in range(5):\n",
    "    customers_orders[products[i]] = input(f'Ingrese una cantidad para: {products[i]}')\n",
    "\n",
    "print(customers_orders)"
   ]
  },
  {
   "cell_type": "code",
   "execution_count": 105,
   "metadata": {},
   "outputs": [
    {
     "name": "stdout",
     "output_type": "stream",
     "text": [
      "25\n",
      "(25, [12.0, 16.0, 20.0, 24.0, 28.000000000000004])\n"
     ]
    }
   ],
   "source": [
    "list_total = list(customers_orders.values())\n",
    "list_total = [int(string) for string in list_total]\n",
    "\n",
    "list_ordered = list_total\n",
    "list_ordered.sort()\n",
    "set_total = sum(list_total)\n",
    "\n",
    "import pandas as pd\n",
    "df_percentage_products = pd.DataFrame(list_ordered)\n",
    "df_percentage_products = (df_percentage_products / set_total) * 100\n",
    "percentage_products = df_percentage_products.values.tolist()\n",
    "percentage_products = [elemento for sublista in percentage_products for elemento in sublista]\n",
    "\n",
    "\n",
    "\n",
    "\n",
    "print(set_total)\n",
    "\n",
    "order_status = (set_total, percentage_products)\n",
    "\n",
    "print(order_status)"
   ]
  },
  {
   "cell_type": "code",
   "execution_count": 106,
   "metadata": {},
   "outputs": [
    {
     "name": "stdout",
     "output_type": "stream",
     "text": [
      "Order Statistics:\n",
      "Total Products Ordered: 25\n",
      "Percentage of Products Ordered: 12.0 %, 16.0 %, 20.0 %, 24.0 %, 28.0 %\n"
     ]
    }
   ],
   "source": [
    "print(f'Order Statistics:\\nTotal Products Ordered: {order_status[0]}\\nPercentage of Products Ordered: {round(order_status[1][0], 2)} %, {round(order_status[1][1], 2)} %, {round(order_status[1][2], 2)} %, {round(order_status[1][3], 2)} %, {round(order_status[1][4], 2)} %')"
   ]
  },
  {
   "cell_type": "code",
   "execution_count": 107,
   "metadata": {},
   "outputs": [
    {
     "name": "stdout",
     "output_type": "stream",
     "text": [
      "t-shirt: 2\n",
      "mug: 3\n",
      "hat: 4\n",
      "book: 5\n",
      "Keychain: 6\n"
     ]
    }
   ],
   "source": [
    "list_total = [list_total[i] - 1 for i in range(5)]\n",
    "list_keys = customers_orders.keys()\n",
    "list_keys = list(list_keys)\n",
    "\n",
    "\n",
    "i = 0\n",
    "for key in list_keys:\n",
    "    customers_orders[key] = list_total[i]\n",
    "    i += 1\n",
    "\n",
    "for x, y in customers_orders.items():\n",
    "    print(f'{x}: {y}')\n"
   ]
  }
 ],
 "metadata": {
  "kernelspec": {
   "display_name": "Python 3 (ipykernel)",
   "language": "python",
   "name": "python3"
  },
  "language_info": {
   "codemirror_mode": {
    "name": "ipython",
    "version": 3
   },
   "file_extension": ".py",
   "mimetype": "text/x-python",
   "name": "python",
   "nbconvert_exporter": "python",
   "pygments_lexer": "ipython3",
   "version": "3.11.9"
  }
 },
 "nbformat": 4,
 "nbformat_minor": 4
}
